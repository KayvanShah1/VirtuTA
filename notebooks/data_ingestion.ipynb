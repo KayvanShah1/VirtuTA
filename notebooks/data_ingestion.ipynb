{
 "cells": [
  {
   "cell_type": "code",
   "execution_count": 1,
   "metadata": {},
   "outputs": [],
   "source": [
    "import os\n",
    "import sys\n",
    "\n",
    "NOTEBOOKS_DIR = os.getcwd()\n",
    "REPO_DIR = os.path.dirname(os.path.abspath(NOTEBOOKS_DIR))\n",
    "DATA_INGESTION_PACKEGE_DIR = os.path.join(REPO_DIR, \"data_ingestion\")\n",
    "\n",
    "sys.path.append(DATA_INGESTION_PACKEGE_DIR)"
   ]
  },
  {
   "cell_type": "code",
   "execution_count": null,
   "metadata": {},
   "outputs": [],
   "source": [
    "from langchain_community.document_loaders.pdf import PyPDFLoader\n",
    "from langchain_text_splitters import RecursiveCharacterTextSplitter\n",
    "from langchain_mongodb import MongoDBAtlasVectorSearch\n",
    "\n",
    "# from langchain_core.runnables import RunnablePassthrough\n",
    "from embedding import EmbeddingClient"
   ]
  }
 ],
 "metadata": {
  "kernelspec": {
   "display_name": "gemini",
   "language": "python",
   "name": "python3"
  },
  "language_info": {
   "codemirror_mode": {
    "name": "ipython",
    "version": 3
   },
   "file_extension": ".py",
   "mimetype": "text/x-python",
   "name": "python",
   "nbconvert_exporter": "python",
   "pygments_lexer": "ipython3",
   "version": "3.11.8"
  }
 },
 "nbformat": 4,
 "nbformat_minor": 2
}
